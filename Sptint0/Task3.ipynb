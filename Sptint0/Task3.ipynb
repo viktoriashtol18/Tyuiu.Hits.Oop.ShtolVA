{
 "cells": [
  {
   "cell_type": "markdown",
   "metadata": {},
   "source": [
    "<h1 style=\"color:DodgerBlue\">Индивидальный проект</h1>"
   ]
  },
  {
   "cell_type": "markdown",
   "metadata": {},
   "source": [
    "<h2 style=\"color:DodgerBlue\">Название проекта:</h2>\n",
    "\n",
    "----\n",
    "\n",
    "### Вариант задания №23\n"
   ]
  },
  {
   "cell_type": "markdown",
   "metadata": {},
   "source": [
    "<h2 style=\"color:DodgerBlue\">Описание проекта:</h2>\n",
    "\n",
    "----\n",
    "\n",
    "Создать базовый класс Task в C#, который будет представлять задачи внутри проекта. На основе этого класса разработать 2-3 производных класса,\n",
    "демонстрирующих принципы наследования и полиморфизма. В каждом из классов должны быть реализованы новые атрибуты и методы, а также переопределены\n",
    "некоторые методы базового класса для демонстрации полиморфизма.\n",
    "\n",
    "Требования к базовому классу Task:\n",
    "\n",
    "• Атрибуты: ID задачи (TaskId), Название задачи (TaskName), Приоритет\n",
    "задачи (Priority).\n",
    "\n",
    "• Методы:\n",
    "\n",
    "o MarkAsComplete(): метод для отметки задачи как выполненной.\n",
    "\n",
    "o GetTaskDetails(): метод для получения деталей задачи.\n",
    "\n",
    "o ReassignTo(): метод для переназначения задачи другому члену\n",
    "команды.\n",
    "Требования к производным классам:\n",
    "1. ДелегатскаяЗадача (DelegateTask): Должна содержать дополнительныеатрибуты, такие как Дата выполнения (DueDate).Метод MarkAsComplete() должен быть переопределен для включения даты выполнения в сообщение о завершении задачи.\n",
    "2. КоманднаяЗадача (TeamTask): Должна содержать дополнительные атрибуты,такие как Команда (TeamName). Метод ReassignTo() должен быть\n",
    "переопределен для указания нового члена команды, которому будет переназначена задача.\n",
    "3. ИсследовательскаяЗадача (ResearchTask) (если требуется третий класс):Должна содержать дополнительные атрибуты, такие как Исходные данные\n",
    "(DataSource). Метод GetTaskDetails() должен быть переопределен дляотображения источников данных, используемых в задаче, вместе с другими\n",
    "деталями задачи."
   ]
  },
  {
   "cell_type": "markdown",
   "metadata": {},
   "source": [
    "<h2 style=\"color:DodgerBlue\">Реализация:</h2>\n",
    "\n",
    "----"
   ]
  },
  {
   "cell_type": "code",
   "execution_count": 2,
   "metadata": {
    "dotnet_interactive": {
     "language": "csharp"
    },
    "polyglot_notebook": {
     "kernelName": "csharp"
    }
   },
   "outputs": [
    {
     "name": "stdout",
     "output_type": "stream",
     "text": [
      "Задача отмечена как выполненная\n",
      "Индетефикатор задачи: 1, Название задачи: Командная задача, Приоритет: Высокий\n",
      "Задача переназначена командой MakeItDouble новому члену Саша\n",
      "Индетификатор задачи: 2, Имя задачи: Исследовательская задача, Приоритет: Средний, Источник данных: Википедия\n",
      "Задача переназначена Вика\n",
      "Задача отмечена как выполненная\n",
      "Индетефикатор задачи: 3, Название задачи: Делегатская задача, Приоритет: Низкий\n",
      "Задача переназначена Татьяна\n",
      "Задача отмечена как выполненная 10.09.2024\n"
     ]
    }
   ],
   "source": [
    "public class Task\n",
    "{\n",
    "    public int TaskId { get; set; }\n",
    "    public string TaskName { get; set; }\n",
    "    public string Priority { get; set; }\n",
    "    public Task(int id,string name,string priority)\n",
    "{\n",
    "    TaskId = id;\n",
    "    TaskName = name;\n",
    "    Priority = priority;\n",
    "}\n",
    "public virtual void MarkAsComplete()\n",
    "{\n",
    "    Console.WriteLine($\"Задача отмечена как выполненная\");\n",
    "}\n",
    "\n",
    "public virtual void GetTaskDetails()\n",
    "{\n",
    "    Console.WriteLine($\"Индетефикатор задачи: {TaskId}, Название задачи: {TaskName}, Приоритет: {Priority}\");\n",
    "}\n",
    "\n",
    "public virtual void ReassignTo(string otherMember)\n",
    "{\n",
    "    Console.WriteLine($\"Задача переназначена {otherMember}\");\n",
    "}\n",
    "}\n",
    "\n",
    "public class DelegateTask : Task\n",
    "{\n",
    "    public string DueDate { get; set; }\n",
    "    public DelegateTask(int id, string name, string priority, string dueDate)\n",
    "    : base(id, name, priority)\n",
    "{\n",
    "    DueDate = dueDate;\n",
    "}\n",
    "public override void MarkAsComplete()\n",
    "{\n",
    "    Console.WriteLine($\"Задача отмечена как выполненная {DueDate}\");\n",
    "}\n",
    "}\n",
    "\n",
    "public class TeamTask : Task\n",
    "{\n",
    "    public string TeamName { get; set; }\n",
    "    public TeamTask(int id, string name, string priority, string teamName)\n",
    "    : base(id, name, priority)\n",
    "{\n",
    "    TeamName = teamName;\n",
    "}\n",
    "\n",
    "public override void ReassignTo(string otherMember)\n",
    "{\n",
    "    Console.WriteLine($\"Задача переназначена командой {TeamName} новому члену {otherMember}\");\n",
    "}\n",
    "}\n",
    "\n",
    "public class ResearchTask : Task\n",
    "{\n",
    "    public string DataSource { get; set; }\n",
    "    public ResearchTask(int id, string name, string priority, string dataSource)\n",
    "    : base(id, name, priority)\n",
    "{\n",
    "    DataSource = dataSource;\n",
    "}\n",
    "\n",
    "public override void GetTaskDetails()\n",
    "{\n",
    "    Console.WriteLine($\"Индетификатор задачи: {TaskId}, Имя задачи: {TaskName}, Приоритет: {Priority}, Источник данных: {DataSource}\");\n",
    "}\n",
    "}\n",
    "TeamTask teamtask = new TeamTask(1, \"Командная задача\", \"Высокий\", \"MakeItDouble\");\n",
    "ResearchTask rTask = new ResearchTask(2, \"Исследовательская задача\", \"Средний\", \"Википедия\");\n",
    "DelegateTask dTask = new DelegateTask(3, \"Делегатская задача\", \"Низкий\", \"10.09.2024\");\n",
    "teamtask.MarkAsComplete();\n",
    "teamtask.GetTaskDetails();\n",
    "teamtask.ReassignTo(\"Саша\");\n",
    "\n",
    "rTask.GetTaskDetails();\n",
    "rTask.ReassignTo(\"Вика\");\n",
    "rTask.MarkAsComplete();\n",
    "\n",
    "dTask.GetTaskDetails();\n",
    "dTask.ReassignTo(\"Татьяна\");\n",
    "dTask.MarkAsComplete();\n"
   ]
  }
 ],
 "metadata": {
  "kernelspec": {
   "display_name": ".NET (C#)",
   "language": "C#",
   "name": ".net-csharp"
  },
  "polyglot_notebook": {
   "kernelInfo": {
    "defaultKernelName": "csharp",
    "items": [
     {
      "aliases": [],
      "languageName": "csharp",
      "name": "csharp"
     }
    ]
   }
  }
 },
 "nbformat": 4,
 "nbformat_minor": 2
}
