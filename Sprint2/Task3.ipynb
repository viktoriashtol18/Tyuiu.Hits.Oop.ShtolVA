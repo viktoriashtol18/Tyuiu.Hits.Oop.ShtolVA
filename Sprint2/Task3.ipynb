{
 "cells": [
  {
   "cell_type": "markdown",
   "metadata": {},
   "source": [
    "<h1 style=\"color:DodgerBlue\">Индивидальный проект</h1>"
   ]
  },
  {
   "cell_type": "markdown",
   "metadata": {},
   "source": [
    "<h2 style=\"color:DodgerBlue\">Название проекта:</h2>\n",
    "\n",
    "----\n",
    "\n",
    "### Вариант задания №23\n"
   ]
  },
  {
   "cell_type": "markdown",
   "metadata": {},
   "source": [
    "<h2 style=\"color:DodgerBlue\">Описание проекта:</h2>\n",
    "\n",
    "Создать базовый класс Task в C#, который будет представлять задачи внутри проекта. На основе этого класса разработать 2-3 производных класса,\n",
    "демонстрирующих принципы наследования и полиморфизма. В каждом из классов должны быть реализованы новые атрибуты и методы, а также переопределены\n",
    "некоторые методы базового класса для демонстрации полиморфизма.\n",
    "\n",
    "Требования к базовому классу Task:\n",
    "\n",
    "• Атрибуты: ID задачи (TaskId), Название задачи (TaskName), Приоритет\n",
    "задачи (Priority).\n",
    "\n",
    "• Методы:\n",
    "\n",
    "o MarkAsComplete(): метод для отметки задачи как выполненной.\n",
    "\n",
    "o GetTaskDetails(): метод для получения деталей задачи.\n",
    "\n",
    "o ReassignTo(): метод для переназначения задачи другому члену\n",
    "команды.\n",
    "Требования к производным классам:\n",
    "1. ДелегатскаяЗадача (DelegateTask): Должна содержать дополнительныеатрибуты, такие как Дата выполнения (DueDate).Метод MarkAsComplete() должен быть переопределен для включения даты выполнения в сообщение о завершении задачи.\n",
    "2. КоманднаяЗадача (TeamTask): Должна содержать дополнительные атрибуты,такие как Команда (TeamName). Метод ReassignTo() должен быть\n",
    "переопределен для указания нового члена команды, которому будет переназначена задача.\n",
    "3. ИсследовательскаяЗадача (ResearchTask) (если требуется третий класс):Должна содержать дополнительные атрибуты, такие как Исходные данные\n",
    "(DataSource). Метод GetTaskDetails() должен быть переопределен дляотображения источников данных, используемых в задаче, вместе с другими\n",
    "деталями задачи.\n",
    "\n",
    "#### Дополнительное задание\n",
    "Добавьте к сущестующим классам (базовому и производному 3-4 атрибута и метода) и реализуйте простое, сложное и множественное наследование"
   ]
  },
  {
   "cell_type": "markdown",
   "metadata": {},
   "source": [
    "<h2 style=\"color:DodgerBlue\">Реализация:</h2>\n",
    "\n",
    "----"
   ]
  },
  {
   "cell_type": "code",
   "execution_count": null,
   "metadata": {
    "dotnet_interactive": {
     "language": "csharp"
    },
    "polyglot_notebook": {
     "kernelName": "csharp"
    }
   },
   "outputs": [
    {
     "name": "stdout",
     "output_type": "stream",
     "text": [
      "Задача : Командная задача переназначена новому члену : Саша ,команды: MakeItDouble\n",
      "Задача : Исследовательская задача отмечена как выполненная, срок выполнения: Пока не указано\n",
      "Индетефикатор задачи: 1, Название задачи: : Командная задача, Приоритет: Высокий\n",
      "Индетификатор задачи: 2, Имя задачи: : Исследовательская задача, Приоритет: Средний, Источник данных: Википедия\n",
      "Индетефикатор задачи: 3, Название задачи: : Делегатская задача, Приоритет: Низкй\n"
     ]
    }
   ],
   "source": [
    "public class Task\n",
    "{\n",
    "    public int TaskId { get; set; }\n",
    "    public string TaskName { get; set; }\n",
    "    public string Priority { get; set; }\n",
    "    public string Description { get; set; }\n",
    "    public DateTime Deadline { get; set; }\n",
    "    public string Status { get; set; }\n",
    "    public Task(int id, string name, string priority)\n",
    "    {\n",
    "        TaskId = id;\n",
    "        TaskName = name;\n",
    "        Priority = priority;\n",
    "    }\n",
    "    public virtual void MarkAsComplete()\n",
    "    {\n",
    "        Console.WriteLine($\"Задача {TaskName} отмечена как выполненная\");\n",
    "    }\n",
    "    public virtual void GetTaskDetails()\n",
    "    {\n",
    "        Console.WriteLine($\"Индетефикатор задачи: {TaskId}, Название задачи: {TaskName}, Приоритет: {Priority}\");\n",
    "    }\n",
    "    public virtual void ReassignTo(string otherMember)\n",
    "    {\n",
    "        Console.WriteLine($\"Задача {TaskName} переназначена {otherMember}\");\n",
    "    }\n",
    "    public virtual void UpdateDescription(string newDescription)\n",
    "    {\n",
    "        Description = newDescription;\n",
    "    }\n",
    "    public virtual void SetDeadline(DateTime newDeadline)\n",
    "    {\n",
    "        Deadline = newDeadline;\n",
    "    }\n",
    "    public virtual void ChangeStatus(string newStatus)\n",
    "    {\n",
    "        Status = newStatus;\n",
    "    }\n",
    "}\n",
    "public class DelegateTask : Task\n",
    "{\n",
    "    private string dueDate;\n",
    "    public string DueDate\n",
    "    {\n",
    "        get { return dueDate; }\n",
    "        set { dueDate = value; }\n",
    "    }\n",
    "    public DelegateTask(int id, string name, string priority, string dueDate)\n",
    "        : base(id, name, priority)\n",
    "    {\n",
    "        this.dueDate = dueDate;\n",
    "    }\n",
    "\n",
    "    public override void MarkAsComplete()\n",
    "    {\n",
    "        Console.WriteLine($\"Задача {TaskName} отмечена как выполненная, срок выполнения: {DueDate}\");\n",
    "    }\n",
    "}\n",
    "public class TeamTask : Task\n",
    "{\n",
    "    private string teamName;\n",
    "    public string TeamName\n",
    "    {\n",
    "        get { return teamName; }\n",
    "        set { teamName = value; }\n",
    "    }\n",
    "    public TeamTask(int id, string name, string priority, string teamName)\n",
    "        : base(id, name, priority)\n",
    "    {\n",
    "        this.teamName = teamName;\n",
    "    }\n",
    "\n",
    "    public override void ReassignTo(string otherMember)\n",
    "    {\n",
    "        Console.WriteLine($\"Задача {TaskName} переназначена новому члену : {otherMember} ,команды: {TeamName}\");\n",
    "    }\n",
    "}\n",
    "public class ResearchTask : DelegateTask\n",
    "{\n",
    "    private string dataSource;\n",
    "    public string DataSource\n",
    "    {\n",
    "        get { return dataSource; }\n",
    "        set { dataSource = value; }\n",
    "    }\n",
    "    public ResearchTask(int id, string name, string priority, string dataSource)\n",
    "        : base(id, name, priority, \"Пока не указано\")\n",
    "    {\n",
    "        this.dataSource = dataSource;\n",
    "    }\n",
    "    public override void GetTaskDetails()\n",
    "    {\n",
    "        Console.WriteLine($\"Индетификатор задачи: {TaskId}, Имя задачи: {TaskName}, Приоритет: {Priority}, Источник данных: {DataSource}\");\n",
    "    }\n",
    "}\n",
    "TeamTask teamtask = new TeamTask(1, \": Командная задача\", \"Высокий\", \"MakeItDouble\");\n",
    "ResearchTask rTask = new ResearchTask(2, \": Исследовательская задача\", \"Средний\", \"Википедия\");\n",
    "DelegateTask dTask = new DelegateTask(3, \": Делегатская задача\", \"Низкий\", \"10.09.2024\");\n",
    "\n",
    "teamtask.ReassignTo(\"Саша\");\n",
    "rTask.MarkAsComplete();\n",
    "dTask.SetDeadline(new DateTime(2022, 12, 31));\n",
    "\n",
    "teamtask.GetTaskDetails();\n",
    "rTask.GetTaskDetails();\n",
    "dTask.GetTaskDetails();"
   ]
  }
 ],
 "metadata": {
  "kernelspec": {
   "display_name": ".NET (C#)",
   "language": "C#",
   "name": ".net-csharp"
  },
  "polyglot_notebook": {
   "kernelInfo": {
    "defaultKernelName": "csharp",
    "items": [
     {
      "aliases": [],
      "languageName": "csharp",
      "name": "csharp"
     }
    ]
   }
  }
 },
 "nbformat": 4,
 "nbformat_minor": 2
}
